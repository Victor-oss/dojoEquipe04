{
 "cells": [
  {
   "cell_type": "code",
   "execution_count": 29,
   "id": "017eed10-b974-4d9c-bfcd-c77acc89ef11",
   "metadata": {},
   "outputs": [],
   "source": [
    "import urllib.request\n",
    "import pandas as pd\n",
    "import json\n",
    "import os"
   ]
  },
  {
   "cell_type": "code",
   "execution_count": 30,
   "id": "5c91e090-7131-469e-94c6-afeab3212b23",
   "metadata": {},
   "outputs": [],
   "source": [
    "path_raiz =  os.path.abspath('')\n",
    "resource_id='9534f677-9525-4bf8-a3aa-fd5d3e152a93'\n",
    "url='http://dadosabertos.bndes.gov.br/api/3/action/datastore_search?resource_id=' + resource_id \n",
    "with urllib.request.urlopen(url) as url:\n",
    " s = url.read()\n",
    "response = json.loads(s)\n",
    "pda = pd.DataFrame(response['result']['records'])\n",
    "path_output =  path_raiz + '/Output/'\n",
    "pda.to_csv(path_output + \"OperacoesIndiretasAutomaticas.csv\", index=False, header=False)"
   ]
  },
  {
   "cell_type": "code",
   "execution_count": null,
   "id": "613388a5-4911-4ccd-a1a1-95bc19c5e9f1",
   "metadata": {},
   "outputs": [],
   "source": []
  }
 ],
 "metadata": {
  "kernelspec": {
   "display_name": "Python 3 (ipykernel)",
   "language": "python",
   "name": "python3"
  },
  "language_info": {
   "codemirror_mode": {
    "name": "ipython",
    "version": 3
   },
   "file_extension": ".py",
   "mimetype": "text/x-python",
   "name": "python",
   "nbconvert_exporter": "python",
   "pygments_lexer": "ipython3",
   "version": "3.10.12"
  }
 },
 "nbformat": 4,
 "nbformat_minor": 5
}
