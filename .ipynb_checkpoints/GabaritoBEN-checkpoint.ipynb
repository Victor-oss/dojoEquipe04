{
 "cells": [
  {
   "cell_type": "markdown",
   "id": "0eba8bc6-eee4-4415-8ff9-a4a4b7fc4658",
   "metadata": {},
   "source": [
    "# os\n",
    "Este módulo fornece uma maneira simples de usar funcionalidades que são dependentes de SO como abrir e escrever em um arquivo, criar diretórios, etc\n",
    "\n",
    "# bs4\n",
    "Módulo que facilita a raspagem de dados de páginas web, já que faz o parser de HTML ou XML e permite iterar, pesquisar e modificar o conteúdo de uma página web.\n",
    "\n",
    "# requests\n",
    "Módulo que permite enviar requisições HTTP de maneira fácil\n",
    "\n",
    "# pathlib\n",
    "Módulo com várias classes para lidar com os caminhos de sistema\n",
    "\n",
    "# pandas\n",
    "Pacote que fornece estruturas de dados rápidas e flexíveis para lidar com dados estruturados e relacionados\n",
    "\n",
    "# math\n",
    "Biblioteca que fornece várias funções matemáticas"
   ]
  },
  {
   "cell_type": "code",
   "execution_count": 5,
   "id": "fbab69ec-0d51-4fcc-b3ba-13376712a0e5",
   "metadata": {},
   "outputs": [],
   "source": [
    "#Baixando dependências\n",
    "import os\n",
    "from bs4 import BeautifulSoup\n",
    "import requests\n",
    "import pathlib\n",
    "import pandas as pd\n",
    "import math"
   ]
  },
  {
   "cell_type": "markdown",
   "id": "5cc0a2fb-e8de-4514-8177-909d46979e43",
   "metadata": {},
   "source": [
    "- os.path.abspath('') #retorna o caminho até o diretório do script que usa essa função\n",
    "- os.makedirs(PATH_REPOSITORIO, exist_ok=True) #cria (ou não, caso o repositório já exista) um repositório com o path passado "
   ]
  },
  {
   "cell_type": "code",
   "execution_count": 8,
   "id": "4770ef7d-57b6-43d4-aef0-8da3e17df48d",
   "metadata": {},
   "outputs": [],
   "source": [
    "#Preparando repositório para guardar arquivo bruto baixado pela Internet e outro para guardar o arquivo após ser tratado\n",
    "link = \"https://www.epe.gov.br/pt/publicacoes-dados-abertos/publicacoes/BEN-Series-Historicas-Completas\"\n",
    "path_raiz =  os.path.abspath('')\n",
    "path_input =  path_raiz + '/Input/'\n",
    "path_output =  path_raiz + '/Output/'\n",
    "os.makedirs(path_input, exist_ok=True)\n",
    "os.makedirs(path_output, exist_ok=True)"
   ]
  },
  {
   "cell_type": "markdown",
   "id": "24d7e689-095e-4178-bfa7-9d854a0c581a",
   "metadata": {},
   "source": [
    "- headers = {\n",
    "    'User-Agent': 'Mozilla/5.0 (X11; Ubuntu; Linux x86_64; rv:109.0) Gecko/20100101 Firefox/113.0'\n",
    "}\n",
    "\n",
    "soup = BeautifulSoup(requests.get(LINK, headers=headers).content, 'html.parser') # cria um objeto da classe BeautifulSoup, definindo o site e o tipo de parser\n",
    "\n",
    "- soup.select(TAG) # retorna uma lista com todas tags do tipo TAG presentes na página web\n",
    "\n",
    "- str(tag.encode_contents(), encoding='utf-8').replace('\\n', '') #retorna o html interno dentro da tag\n",
    "\n",
    "URL para colocar antes do link procurado = 'https://www.epe.gov.br'"
   ]
  },
  {
   "cell_type": "code",
   "execution_count": 9,
   "id": "b0282dd0-6d4a-4eb6-b042-88c0996cd966",
   "metadata": {},
   "outputs": [],
   "source": [
    "#Obtendo o link para baixar o arquivo da Internet\n",
    "headers = {\n",
    "    'User-Agent': 'Mozilla/5.0 (X11; Ubuntu; Linux x86_64; rv:109.0) Gecko/20100101 Firefox/113.0'\n",
    "}\n",
    "soup = BeautifulSoup(requests.get(link, headers=headers).content, 'html.parser')\n",
    "for tag in soup.select('a'):\n",
    "    html_interno = str(tag.encode_contents(), encoding='utf-8').replace('\\n', '')\n",
    "    if html_interno.find(\"Matrizes Consolidadas\") != -1:\n",
    "            link_baixa_arquivo = 'https://www.epe.gov.br' + tag['href']\n",
    "            break"
   ]
  },
  {
   "cell_type": "markdown",
   "id": "4c059918-702f-4ecb-8886-96961151cb50",
   "metadata": {},
   "source": [
    "- requests.get(LINK_DO_ARQUIVO_A_SER_BAIXADO, allow_redirects=True) #Faz uma requisição GET para o conteúdo do arquivo do link e retorna uma Response\n",
    "\n",
    "- with open(NOME_ARQUIVO, 'wb') as output:\n",
    "    output.write(RESPONSE) #Cria ou abre o arquivo NOME_ARQUIVO e escreve o resultado da requisição GET nesse arquivo\n",
    "\n",
    "- pathlib.Path(PATH_ATUAL_ARQUIVO).rename(NOVO_PATH_ARQUIVO) # transporta o arquivo no caminho PATH_ATUAL_ARQUIVO para o NOVO_PATH_ARQUIVO"
   ]
  },
  {
   "cell_type": "code",
   "execution_count": 12,
   "id": "3130da4b-ff23-440e-99ce-882017b6ee6a",
   "metadata": {},
   "outputs": [
    {
     "data": {
      "text/plain": [
       "PosixPath('/home/victorio/Documents/dojoEquipe04/Input/Input BEN.xlsx')"
      ]
     },
     "execution_count": 12,
     "metadata": {},
     "output_type": "execute_result"
    }
   ],
   "source": [
    "#Baixando o arquivo e guardando na pasta Input\n",
    "r = requests.get(link_baixa_arquivo, allow_redirects=True)\n",
    "nome_arquivo = \"Input BEN.xlsx\" \n",
    "with open(nome_arquivo, 'wb') as output:\n",
    "    output.write(r.content)\n",
    "pathlib.Path(path_raiz + '/' + nome_arquivo).rename(path_input + nome_arquivo)"
   ]
  },
  {
   "cell_type": "markdown",
   "id": "b2848658-922c-4ec9-85eb-dfcf9ed6fdd9",
   "metadata": {},
   "source": [
    "- titulos = ['CONTA','PRODUÇÃO','IMPORTAÇÃO']\n",
    "\n",
    "- pd.DataFrame() #Cria um Data Frame vazio\n",
    "\n",
    "- for sheet_name, df in pd.read_excel(PATH_EXCEL, sheet_name=None).items() #Itera por todas as planilhas presentes do arquivo Excel localizado no caminho PATH_EXCEL\n",
    "\n",
    "- DF.drop(ROTULO, axis=EIXO, inplace=True) #Apaga uma linha (padrão) ou coluna (axis=1) com base no rótulo da mesma, o atributo inplace faz com que a coluna seja apagada no DataFrame que chamou o método\n",
    "\n",
    "- DF.dropna(inplace=True) #Apaga as linhas (padrão) ou coluna (axis=1) que possuem um NaN\n",
    "\n",
    "- len(DATA_FRAME) #retorna o número de linhas de um DATA_FRAME\n",
    "\n",
    "- DF.drop(index=df.iloc[LINHA].name, inplace=True) #Apaga a linha com posição LINHA\n",
    "\n",
    "- DF.transpose() #inverte um Data Frame, as linhas viram colunas e vice-versa\n",
    "\n",
    "- [NUMERO_REPITIDO] * NUM_LINHAS #cria um Series que pode se tornar o conteúdo de uma nova coluna do Data Frame]\n",
    "\n",
    "- pd.concat([DATA_FRAME_TOTAL, DATA_FRAME]) #concatena o DATA_FRAME abaixo do DATA_FRAME_TOTAL\n",
    "\n",
    "- DF.iloc[LINHA_INICIO:LINHA_FIM,COLUNA_INICIO:COLUNA_FIM].applymap(lambda x : int(x)) #percorre todos os elementos do Data Frame no intervalo do Data Frame e transforma eles em inteiros\n",
    "\n",
    "- DF.to_csv(PATH_ARQUIVO_SERA_SALVO, index=False, header=False) #salva o Data Frame como um arquivo csv no caminho PATH_ARQUIVO_SERA_SALVO\n"
   ]
  },
  {
   "cell_type": "code",
   "execution_count": 13,
   "id": "02e63b1e-f4d1-48af-84e1-ebe4c6c40a08",
   "metadata": {},
   "outputs": [
    {
     "name": "stdout",
     "output_type": "stream",
     "text": [
      "                                                 11              12  \\\n",
      "Unnamed: 1                                    FONTE      PRODUÇÃO     \n",
      "Unnamed: 2                                PETRÓLEO           156398   \n",
      "Unnamed: 3                             GÁS NATURAL            49971   \n",
      "Unnamed: 4                            CARVÃO VAPOR             2311   \n",
      "Unnamed: 5                      CARVÃO METALÚRGICO                0   \n",
      "...                                             ...             ...   \n",
      "Unnamed: 24         OUTRAS SECUNDÁRIAS DE PETRÓLEO                0   \n",
      "Unnamed: 25   PRODUTOS NÃO ENERGÉTICOS DE PETRÓLEO                0   \n",
      "Unnamed: 26                               ALCATRÃO                0   \n",
      "Unnamed: 27               ENERGIA SECUNDÁRIA TOTAL                0   \n",
      "Unnamed: 28                                 TOTAL             49629   \n",
      "\n",
      "                           13   ANO  \n",
      "Unnamed: 1       IMPORTAÇÃO     ANO  \n",
      "Unnamed: 2              12724  2022  \n",
      "Unnamed: 3               7722  2022  \n",
      "Unnamed: 4               3257  2022  \n",
      "Unnamed: 5               7405  2022  \n",
      "...                       ...   ...  \n",
      "Unnamed: 24                 0  1970  \n",
      "Unnamed: 25               369  1970  \n",
      "Unnamed: 26                 0  1970  \n",
      "Unnamed: 27               943  1970  \n",
      "Unnamed: 28             20242  1970  \n",
      "\n",
      "[1450 rows x 4 columns]\n"
     ]
    }
   ],
   "source": [
    "#Tratando tabela bruta\n",
    "titulos = ['CONTA','PRODUÇÃO','IMPORTAÇÃO']\n",
    "cont = 0\n",
    "df_total = pd.DataFrame()\n",
    "for sheet_name, df in pd.read_excel(path_input + nome_arquivo, sheet_name=None).items():\n",
    "    df.drop('Unnamed: 0', axis=1, inplace=True)\n",
    "    df.dropna(inplace=True)\n",
    "    i = 0\n",
    "    while len(df.index) != 3:\n",
    "        titulo = df.iloc[i, 0]\n",
    "        titulo = titulo.replace(' ', '')\n",
    "        if titulo not in titulos:\n",
    "            df.drop(index=df.iloc[i].name, inplace=True)\n",
    "        else:\n",
    "            i += 1\n",
    "    df = df.transpose()\n",
    "    num_rows = len(df)\n",
    "    new_column_data = [sheet_name] * num_rows\n",
    "    df['ANO'] = new_column_data\n",
    "    if cont:\n",
    "        df.drop(index=df.iloc[0].name, inplace=True)\n",
    "    cont = 1\n",
    "    df_total = pd.concat([df_total, df])\n",
    "df_total.iloc[0,0] = 'FONTE'   \n",
    "df_total.iloc[0, -1] = 'ANO'\n",
    "#df_total.iloc[1:, 1:-1] = df_total.iloc[1:, 1:-1].applymap(lambda x : int(x))\n",
    "df_total.iloc[1:, 1:-1] = df_total.iloc[1:, 1:-1].applymap(lambda x : math.floor(abs(x)) if (abs(x) * 10 - int(abs(x)) * 10) < 5 else math.ceil(abs(x)))\n",
    "df_total.to_csv(path_output + \"BEN tratado.csv\", index=False, header=False)\n",
    "print(df_total)"
   ]
  },
  {
   "cell_type": "code",
   "execution_count": null,
   "id": "224c712e-5acb-4800-91e2-d6babaabd45b",
   "metadata": {},
   "outputs": [],
   "source": []
  }
 ],
 "metadata": {
  "kernelspec": {
   "display_name": "Python 3 (ipykernel)",
   "language": "python",
   "name": "python3"
  },
  "language_info": {
   "codemirror_mode": {
    "name": "ipython",
    "version": 3
   },
   "file_extension": ".py",
   "mimetype": "text/x-python",
   "name": "python",
   "nbconvert_exporter": "python",
   "pygments_lexer": "ipython3",
   "version": "3.10.12"
  }
 },
 "nbformat": 4,
 "nbformat_minor": 5
}
