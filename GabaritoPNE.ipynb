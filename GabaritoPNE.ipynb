{
 "cells": [
  {
   "cell_type": "code",
   "execution_count": 2,
   "id": "96b41d72-aa4f-4c25-848c-2f1b9bd36821",
   "metadata": {},
   "outputs": [],
   "source": [
    "#Baixando dependências\n",
    "from io import BytesIO\n",
    "import os\n",
    "import zipfile\n",
    "import pathlib\n",
    "from bs4 import BeautifulSoup\n",
    "import requests"
   ]
  },
  {
   "cell_type": "code",
   "execution_count": 12,
   "id": "344a300d-a00c-413a-88fe-c2adfd2a5bbf",
   "metadata": {},
   "outputs": [
    {
     "name": "stdout",
     "output_type": "stream",
     "text": [
      "/home/victorio/Documents/dojoEquipe04/Input/Dados PNE/\n"
     ]
    }
   ],
   "source": [
    "#Preparando repositório para guardar arquivo bruto baixado pela Internet\n",
    "path_raiz =  os.path.abspath('')\n",
    "path_input =  path_raiz + '/Input/'\n",
    "path_input = path_input + 'Dados PNE/'\n",
    "os.makedirs(path_input, exist_ok=True)\n",
    "print(path_input)"
   ]
  },
  {
   "cell_type": "code",
   "execution_count": 9,
   "id": "372c16f5-b8d0-4670-a8c6-a45ed813ff58",
   "metadata": {},
   "outputs": [
    {
     "name": "stdout",
     "output_type": "stream",
     "text": [
      "https://www.epe.gov.br/sites-pt/publicacoes-dados-abertos/publicacoes/PublicacoesArquivos/publicacao-227/topico-563/Dados_saida_eletricidade.zip\n"
     ]
    }
   ],
   "source": [
    "#Encontrando link para baixar arquivo em zip\n",
    "headers = {\n",
    "    'User-Agent': 'Mozilla/5.0 (X11; Ubuntu; Linux x86_64; rv:109.0) Gecko/20100101 Firefox/113.0'\n",
    "}\n",
    "link_site = \"https://www.epe.gov.br/pt/publicacoes-dados-abertos/publicacoes/Plano-Nacional-de-Energia-2050\"\n",
    "soup = BeautifulSoup(requests.get(link_site, headers=headers).content, 'html.parser')\n",
    "for tag in soup.select('a'):\n",
    "    html = str(tag.encode_contents(), encoding='utf-8').replace('\\n', '')\n",
    "    if html.find('Relatórios de saída') != -1:\n",
    "        link_arquivo = 'https://www.epe.gov.br' + str(tag['href'])\n",
    "        break\n",
    "print(link_arquivo)"
   ]
  },
  {
   "cell_type": "code",
   "execution_count": 13,
   "id": "641f2324-1cd7-4d09-b4a3-4c294de003ec",
   "metadata": {},
   "outputs": [],
   "source": [
    "conteudo = requests.get(link_arquivo).content\n",
    "with BytesIO(conteudo) as filebytes:\n",
    "    with zipfile.ZipFile(filebytes, 'r') as zip:\n",
    "        zip.extractall(path_input)"
   ]
  },
  {
   "cell_type": "code",
   "execution_count": null,
   "id": "bdf50755-5180-45a7-8dbb-d17271bb1583",
   "metadata": {},
   "outputs": [],
   "source": []
  }
 ],
 "metadata": {
  "kernelspec": {
   "display_name": "Python 3 (ipykernel)",
   "language": "python",
   "name": "python3"
  },
  "language_info": {
   "codemirror_mode": {
    "name": "ipython",
    "version": 3
   },
   "file_extension": ".py",
   "mimetype": "text/x-python",
   "name": "python",
   "nbconvert_exporter": "python",
   "pygments_lexer": "ipython3",
   "version": "3.10.12"
  }
 },
 "nbformat": 4,
 "nbformat_minor": 5
}
